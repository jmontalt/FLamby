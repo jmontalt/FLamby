{
 "cells": [
  {
   "attachments": {},
   "cell_type": "markdown",
   "metadata": {},
   "source": [
    "# Analysis of internal benchmark results"
   ]
  },
  {
   "cell_type": "code",
   "execution_count": 1,
   "metadata": {},
   "outputs": [],
   "source": [
    "import pandas as pd\n",
    "import plotly.express as px\n",
    "import plotly.io as pio\n",
    "\n",
    "import bayer_visual_identity as vi"
   ]
  },
  {
   "cell_type": "code",
   "execution_count": 2,
   "metadata": {},
   "outputs": [],
   "source": [
    "vi.set_bayer_theme()"
   ]
  },
  {
   "attachments": {},
   "cell_type": "markdown",
   "metadata": {},
   "source": [
    "## Camelyon16"
   ]
  },
  {
   "cell_type": "code",
   "execution_count": 3,
   "metadata": {},
   "outputs": [],
   "source": [
    "RESULTS_FILE = \"benchmark_fed_camelyon16_results.csv\"\n",
    "df = pd.read_csv(RESULTS_FILE)"
   ]
  },
  {
   "cell_type": "code",
   "execution_count": 4,
   "metadata": {},
   "outputs": [],
   "source": [
    "# Make \"Method\" a categorical variable to preserve the desired order.\n",
    "METHOD_CATEGORIES = [\n",
    "    \"Pooled Training\",\n",
    "    \"Local 0\",\n",
    "    \"Local 1\",\n",
    "    \"FedAvg100\",\n",
    "    \"Scaffold100\",\n",
    "    \"FedProx100\",\n",
    "    \"Cyclic100\",\n",
    "    \"FedAdagrad100\",\n",
    "    \"FedYogi100\",\n",
    "    \"FedAdam100\"\n",
    "]\n",
    "df[\"Method\"] = pd.Categorical(df[\"Method\"], METHOD_CATEGORIES)"
   ]
  },
  {
   "cell_type": "code",
   "execution_count": 5,
   "metadata": {},
   "outputs": [],
   "source": [
    "# Aggregate results for all random seeds.\n",
    "df_agg = df.groupby([\"Method\", \"Test\"]).agg({\"Metric\": [\"mean\", \"std\"]}).reset_index()\n",
    "df_agg.columns = [\"Method\", \"Test\", \"Metric\", \"MetricError\"]"
   ]
  },
  {
   "cell_type": "code",
   "execution_count": 6,
   "metadata": {},
   "outputs": [],
   "source": [
    "# Keep only pooled test.\n",
    "df_agg_pool = df_agg[df_agg[\"Test\"] == \"Pooled Test\"]"
   ]
  },
  {
   "cell_type": "code",
   "execution_count": 11,
   "metadata": {},
   "outputs": [
    {
     "data": {
      "application/vnd.plotly.v1+json": {
       "config": {
        "plotlyServerURL": "https://plot.ly"
       },
       "data": [
        {
         "alignmentgroup": "True",
         "error_y": {
          "array": [
           0.04213360209292252,
           0.03630800043766483,
           0.047006371552548734,
           0.024108041396891645,
           0.0947218875549947,
           0.023716585960958134,
           0.01873639407103576,
           0.04687107477624066,
           0.055055993441611176,
           null
          ]
         },
         "hovertemplate": "Method=%{x}<br>Metric=%{y}<extra></extra>",
         "legendgroup": "",
         "marker": {
          "color": "#00BCFF",
          "pattern": {
           "shape": ""
          }
         },
         "name": "",
         "offsetgroup": "",
         "orientation": "v",
         "showlegend": false,
         "textposition": "auto",
         "type": "bar",
         "x": [
          "Pooled Training",
          "Local 0",
          "Local 1",
          "FedAvg100",
          "Scaffold100",
          "FedProx100",
          "Cyclic100",
          "FedAdagrad100",
          "FedYogi100",
          "FedAdam100"
         ],
         "xaxis": "x",
         "y": [
          0.7085905349794239,
          0.658127572016461,
          0.6566358024691358,
          0.6077160493827161,
          0.5555041152263375,
          0.6139917695473252,
          0.5658950617283951,
          0.5295781893004115,
          0.473559670781893,
          0.5141460905349795
         ],
         "yaxis": "y"
        }
       ],
       "layout": {
        "barmode": "relative",
        "legend": {
         "tracegroupgap": 0
        },
        "template": {
         "layout": {
          "colorway": [
           "#00BCFF",
           "#89D329",
           "#FF3162",
           "#00617F",
           "#2B6636",
           "#624963"
          ],
          "font": {
           "color": "#10384F",
           "family": "Arial"
          }
         }
        },
        "title": {
         "text": "FLamby reproducibility - Benchmark results on Fed-Camelyon16"
        },
        "xaxis": {
         "anchor": "y",
         "domain": [
          0,
          1
         ],
         "title": {
          "text": "Method"
         }
        },
        "yaxis": {
         "anchor": "x",
         "domain": [
          0,
          1
         ],
         "title": {
          "text": "Metric"
         }
        }
       }
      },
      "text/html": [
       "<div>                            <div id=\"0c371884-3eba-469e-9e3c-680e2a108fad\" class=\"plotly-graph-div\" style=\"height:525px; width:100%;\"></div>            <script type=\"text/javascript\">                require([\"plotly\"], function(Plotly) {                    window.PLOTLYENV=window.PLOTLYENV || {};                                    if (document.getElementById(\"0c371884-3eba-469e-9e3c-680e2a108fad\")) {                    Plotly.newPlot(                        \"0c371884-3eba-469e-9e3c-680e2a108fad\",                        [{\"alignmentgroup\":\"True\",\"error_y\":{\"array\":[0.04213360209292252,0.03630800043766483,0.047006371552548734,0.024108041396891645,0.0947218875549947,0.023716585960958134,0.01873639407103576,0.04687107477624066,0.055055993441611176,null]},\"hovertemplate\":\"Method=%{x}<br>Metric=%{y}<extra></extra>\",\"legendgroup\":\"\",\"marker\":{\"color\":\"#00BCFF\",\"pattern\":{\"shape\":\"\"}},\"name\":\"\",\"offsetgroup\":\"\",\"orientation\":\"v\",\"showlegend\":false,\"textposition\":\"auto\",\"x\":[\"Pooled Training\",\"Local 0\",\"Local 1\",\"FedAvg100\",\"Scaffold100\",\"FedProx100\",\"Cyclic100\",\"FedAdagrad100\",\"FedYogi100\",\"FedAdam100\"],\"xaxis\":\"x\",\"y\":[0.7085905349794239,0.658127572016461,0.6566358024691358,0.6077160493827161,0.5555041152263375,0.6139917695473252,0.5658950617283951,0.5295781893004115,0.473559670781893,0.5141460905349795],\"yaxis\":\"y\",\"type\":\"bar\"}],                        {\"template\":{\"layout\":{\"colorway\":[\"#00BCFF\",\"#89D329\",\"#FF3162\",\"#00617F\",\"#2B6636\",\"#624963\"],\"font\":{\"color\":\"#10384F\",\"family\":\"Arial\"}}},\"xaxis\":{\"anchor\":\"y\",\"domain\":[0.0,1.0],\"title\":{\"text\":\"Method\"}},\"yaxis\":{\"anchor\":\"x\",\"domain\":[0.0,1.0],\"title\":{\"text\":\"Metric\"}},\"legend\":{\"tracegroupgap\":0},\"title\":{\"text\":\"FLamby reproducibility - Benchmark results on Fed-Camelyon16\"},\"barmode\":\"relative\"},                        {\"responsive\": true}                    ).then(function(){\n",
       "                            \n",
       "var gd = document.getElementById('0c371884-3eba-469e-9e3c-680e2a108fad');\n",
       "var x = new MutationObserver(function (mutations, observer) {{\n",
       "        var display = window.getComputedStyle(gd).display;\n",
       "        if (!display || display === 'none') {{\n",
       "            console.log([gd, 'removed!']);\n",
       "            Plotly.purge(gd);\n",
       "            observer.disconnect();\n",
       "        }}\n",
       "}});\n",
       "\n",
       "// Listen for the removal of the full notebook cells\n",
       "var notebookContainer = gd.closest('#notebook-container');\n",
       "if (notebookContainer) {{\n",
       "    x.observe(notebookContainer, {childList: true});\n",
       "}}\n",
       "\n",
       "// Listen for the clearing of the current output cell\n",
       "var outputEl = gd.closest('.output');\n",
       "if (outputEl) {{\n",
       "    x.observe(outputEl, {childList: true});\n",
       "}}\n",
       "\n",
       "                        })                };                });            </script>        </div>"
      ]
     },
     "metadata": {},
     "output_type": "display_data"
    }
   ],
   "source": [
    "# Plot benchmark results.\n",
    "fig = px.bar(\n",
    "    df_agg_pool,\n",
    "    x=\"Method\",\n",
    "    y=\"Metric\",\n",
    "    error_y=\"MetricError\",\n",
    "    title=\"FLamby reproducibility - Benchmark results on Fed-Camelyon16\",\n",
    ")\n",
    "fig.write_html(\"benchmark_fed_camelyon16_results.html\")\n",
    "fig.write_image(\"benchmark_fed_camelyon16_results.svg\")\n",
    "fig.show()"
   ]
  },
  {
   "cell_type": "code",
   "execution_count": 10,
   "metadata": {},
   "outputs": [
    {
     "name": "stderr",
     "output_type": "stream",
     "text": [
      "2023/02/15 17:15:23 INFO mlflow.tracking.fluent: Experiment with name 'flamby-benchmark-fed-camelyon16' does not exist. Creating a new experiment.\n"
     ]
    },
    {
     "ename": "ModuleNotFoundError",
     "evalue": "No module named 'google.cloud'",
     "output_type": "error",
     "traceback": [
      "\u001b[0;31m---------------------------------------------------------------------------\u001b[0m",
      "\u001b[0;31mModuleNotFoundError\u001b[0m                       Traceback (most recent call last)",
      "\u001b[1;32m/home/javier_montalttordera_bayer_com/FLamby/tools/benchmark_fed_camelyon16_results.ipynb Cell 10\u001b[0m in \u001b[0;36m<cell line: 7>\u001b[0;34m()\u001b[0m\n\u001b[1;32m      <a href='vscode-notebook-cell://ssh-remote%2Bfl-lab-default-bastion/home/javier_montalttordera_bayer_com/FLamby/tools/benchmark_fed_camelyon16_results.ipynb#X12sdnNjb2RlLXJlbW90ZQ%3D%3D?line=4'>5</a>\u001b[0m mlflow\u001b[39m.\u001b[39mset_experiment(\u001b[39m\"\u001b[39m\u001b[39mflamby-benchmark-fed-camelyon16\u001b[39m\u001b[39m\"\u001b[39m)\n\u001b[1;32m      <a href='vscode-notebook-cell://ssh-remote%2Bfl-lab-default-bastion/home/javier_montalttordera_bayer_com/FLamby/tools/benchmark_fed_camelyon16_results.ipynb#X12sdnNjb2RlLXJlbW90ZQ%3D%3D?line=6'>7</a>\u001b[0m \u001b[39mwith\u001b[39;00m mlflow\u001b[39m.\u001b[39mstart_run() \u001b[39mas\u001b[39;00m run:\n\u001b[0;32m----> <a href='vscode-notebook-cell://ssh-remote%2Bfl-lab-default-bastion/home/javier_montalttordera_bayer_com/FLamby/tools/benchmark_fed_camelyon16_results.ipynb#X12sdnNjb2RlLXJlbW90ZQ%3D%3D?line=7'>8</a>\u001b[0m     mlflow\u001b[39m.\u001b[39;49mlog_figure(fig, \u001b[39m\"\u001b[39;49m\u001b[39mbenchmark_fed_camelyon16_results.html\u001b[39;49m\u001b[39m\"\u001b[39;49m)\n",
      "File \u001b[0;32m/opt/conda/envs/amic/lib/python3.8/site-packages/mlflow/tracking/fluent.py:917\u001b[0m, in \u001b[0;36mlog_figure\u001b[0;34m(figure, artifact_file)\u001b[0m\n\u001b[1;32m    877\u001b[0m \u001b[39m\u001b[39m\u001b[39m\"\"\"\u001b[39;00m\n\u001b[1;32m    878\u001b[0m \u001b[39mLog a figure as an artifact. The following figure objects are supported:\u001b[39;00m\n\u001b[1;32m    879\u001b[0m \n\u001b[0;32m   (...)\u001b[0m\n\u001b[1;32m    914\u001b[0m \u001b[39m        mlflow.log_figure(fig, \"figure.html\")\u001b[39;00m\n\u001b[1;32m    915\u001b[0m \u001b[39m\"\"\"\u001b[39;00m\n\u001b[1;32m    916\u001b[0m run_id \u001b[39m=\u001b[39m _get_or_start_run()\u001b[39m.\u001b[39minfo\u001b[39m.\u001b[39mrun_id\n\u001b[0;32m--> 917\u001b[0m MlflowClient()\u001b[39m.\u001b[39;49mlog_figure(run_id, figure, artifact_file)\n",
      "File \u001b[0;32m/opt/conda/envs/amic/lib/python3.8/site-packages/mlflow/tracking/client.py:1217\u001b[0m, in \u001b[0;36mMlflowClient.log_figure\u001b[0;34m(self, run_id, figure, artifact_file)\u001b[0m\n\u001b[1;32m   1213\u001b[0m         \u001b[39mraise\u001b[39;00m \u001b[39mTypeError\u001b[39;00m(\n\u001b[1;32m   1214\u001b[0m             \u001b[39mf\u001b[39m\u001b[39m\"\u001b[39m\u001b[39mUnsupported file extension for plotly figure: \u001b[39m\u001b[39m'\u001b[39m\u001b[39m{\u001b[39;00mfile_extension\u001b[39m}\u001b[39;00m\u001b[39m'\u001b[39m\u001b[39m\"\u001b[39m\n\u001b[1;32m   1215\u001b[0m         )\n\u001b[1;32m   1216\u001b[0m \u001b[39melse\u001b[39;00m:\n\u001b[0;32m-> 1217\u001b[0m     \u001b[39mraise\u001b[39;00m \u001b[39mTypeError\u001b[39;00m(\u001b[39m\"\u001b[39m\u001b[39mUnsupported figure object type: \u001b[39m\u001b[39m'\u001b[39m\u001b[39m{}\u001b[39;00m\u001b[39m'\u001b[39m\u001b[39m\"\u001b[39m\u001b[39m.\u001b[39mformat(\u001b[39mtype\u001b[39m(figure)))\n",
      "File \u001b[0;32m/opt/conda/envs/amic/lib/python3.8/contextlib.py:120\u001b[0m, in \u001b[0;36m_GeneratorContextManager.__exit__\u001b[0;34m(self, type, value, traceback)\u001b[0m\n\u001b[1;32m    118\u001b[0m \u001b[39mif\u001b[39;00m \u001b[39mtype\u001b[39m \u001b[39mis\u001b[39;00m \u001b[39mNone\u001b[39;00m:\n\u001b[1;32m    119\u001b[0m     \u001b[39mtry\u001b[39;00m:\n\u001b[0;32m--> 120\u001b[0m         \u001b[39mnext\u001b[39;49m(\u001b[39mself\u001b[39;49m\u001b[39m.\u001b[39;49mgen)\n\u001b[1;32m    121\u001b[0m     \u001b[39mexcept\u001b[39;00m \u001b[39mStopIteration\u001b[39;00m:\n\u001b[1;32m    122\u001b[0m         \u001b[39mreturn\u001b[39;00m \u001b[39mFalse\u001b[39;00m\n",
      "File \u001b[0;32m/opt/conda/envs/amic/lib/python3.8/site-packages/mlflow/tracking/client.py:1067\u001b[0m, in \u001b[0;36mMlflowClient._log_artifact_helper\u001b[0;34m(self, run_id, artifact_file)\u001b[0m\n\u001b[1;32m   1065\u001b[0m tmp_path \u001b[39m=\u001b[39m os\u001b[39m.\u001b[39mpath\u001b[39m.\u001b[39mjoin(tmp_dir, filename)\n\u001b[1;32m   1066\u001b[0m \u001b[39myield\u001b[39;00m tmp_path\n\u001b[0;32m-> 1067\u001b[0m \u001b[39mself\u001b[39;49m\u001b[39m.\u001b[39;49mlog_artifact(run_id, tmp_path, artifact_dir)\n",
      "File \u001b[0;32m/opt/conda/envs/amic/lib/python3.8/site-packages/mlflow/tracking/client.py:1002\u001b[0m, in \u001b[0;36mMlflowClient.log_artifact\u001b[0;34m(self, run_id, local_path, artifact_path)\u001b[0m\n\u001b[1;32m    967\u001b[0m \u001b[39mdef\u001b[39;00m \u001b[39mlog_artifact\u001b[39m(\u001b[39mself\u001b[39m, run_id, local_path, artifact_path\u001b[39m=\u001b[39m\u001b[39mNone\u001b[39;00m) \u001b[39m-\u001b[39m\u001b[39m>\u001b[39m \u001b[39mNone\u001b[39;00m:\n\u001b[1;32m    968\u001b[0m \u001b[39m    \u001b[39m\u001b[39m\"\"\"\u001b[39;00m\n\u001b[1;32m    969\u001b[0m \u001b[39m    Write a local file or directory to the remote ``artifact_uri``.\u001b[39;00m\n\u001b[1;32m    970\u001b[0m \n\u001b[0;32m   (...)\u001b[0m\n\u001b[1;32m   1000\u001b[0m \u001b[39m        is_dir: False\u001b[39;00m\n\u001b[1;32m   1001\u001b[0m \u001b[39m    \"\"\"\u001b[39;00m\n\u001b[0;32m-> 1002\u001b[0m     \u001b[39mself\u001b[39;49m\u001b[39m.\u001b[39;49m_tracking_client\u001b[39m.\u001b[39;49mlog_artifact(run_id, local_path, artifact_path)\n",
      "File \u001b[0;32m/opt/conda/envs/amic/lib/python3.8/site-packages/mlflow/tracking/_tracking_service/client.py:431\u001b[0m, in \u001b[0;36mTrackingServiceClient.log_artifact\u001b[0;34m(self, run_id, local_path, artifact_path)\u001b[0m\n\u001b[1;32m    424\u001b[0m \u001b[39mdef\u001b[39;00m \u001b[39mlog_artifact\u001b[39m(\u001b[39mself\u001b[39m, run_id, local_path, artifact_path\u001b[39m=\u001b[39m\u001b[39mNone\u001b[39;00m):\n\u001b[1;32m    425\u001b[0m \u001b[39m    \u001b[39m\u001b[39m\"\"\"\u001b[39;00m\n\u001b[1;32m    426\u001b[0m \u001b[39m    Write a local file or directory to the remote ``artifact_uri``.\u001b[39;00m\n\u001b[1;32m    427\u001b[0m \n\u001b[1;32m    428\u001b[0m \u001b[39m    :param local_path: Path to the file or directory to write.\u001b[39;00m\n\u001b[1;32m    429\u001b[0m \u001b[39m    :param artifact_path: If provided, the directory in ``artifact_uri`` to write to.\u001b[39;00m\n\u001b[1;32m    430\u001b[0m \u001b[39m    \"\"\"\u001b[39;00m\n\u001b[0;32m--> 431\u001b[0m     artifact_repo \u001b[39m=\u001b[39m \u001b[39mself\u001b[39;49m\u001b[39m.\u001b[39;49m_get_artifact_repo(run_id)\n\u001b[1;32m    432\u001b[0m     \u001b[39mif\u001b[39;00m os\u001b[39m.\u001b[39mpath\u001b[39m.\u001b[39misdir(local_path):\n\u001b[1;32m    433\u001b[0m         dir_name \u001b[39m=\u001b[39m os\u001b[39m.\u001b[39mpath\u001b[39m.\u001b[39mbasename(os\u001b[39m.\u001b[39mpath\u001b[39m.\u001b[39mnormpath(local_path))\n",
      "File \u001b[0;32m/opt/conda/envs/amic/lib/python3.8/site-packages/mlflow/tracking/_tracking_service/client.py:416\u001b[0m, in \u001b[0;36mTrackingServiceClient._get_artifact_repo\u001b[0;34m(self, run_id)\u001b[0m\n\u001b[1;32m    412\u001b[0m run \u001b[39m=\u001b[39m \u001b[39mself\u001b[39m\u001b[39m.\u001b[39mget_run(run_id)\n\u001b[1;32m    413\u001b[0m artifact_uri \u001b[39m=\u001b[39m add_databricks_profile_info_to_artifact_uri(\n\u001b[1;32m    414\u001b[0m     run\u001b[39m.\u001b[39minfo\u001b[39m.\u001b[39martifact_uri, \u001b[39mself\u001b[39m\u001b[39m.\u001b[39mtracking_uri\n\u001b[1;32m    415\u001b[0m )\n\u001b[0;32m--> 416\u001b[0m artifact_repo \u001b[39m=\u001b[39m get_artifact_repository(artifact_uri)\n\u001b[1;32m    417\u001b[0m \u001b[39m# Cache the artifact repo to avoid a future network call, removing the oldest\u001b[39;00m\n\u001b[1;32m    418\u001b[0m \u001b[39m# entry in the cache if there are too many elements\u001b[39;00m\n\u001b[1;32m    419\u001b[0m \u001b[39mif\u001b[39;00m \u001b[39mlen\u001b[39m(TrackingServiceClient\u001b[39m.\u001b[39m_artifact_repos_cache) \u001b[39m>\u001b[39m \u001b[39m1024\u001b[39m:\n",
      "File \u001b[0;32m/opt/conda/envs/amic/lib/python3.8/site-packages/mlflow/store/artifact/artifact_repository_registry.py:106\u001b[0m, in \u001b[0;36mget_artifact_repository\u001b[0;34m(artifact_uri)\u001b[0m\n\u001b[1;32m     96\u001b[0m \u001b[39mdef\u001b[39;00m \u001b[39mget_artifact_repository\u001b[39m(artifact_uri):\n\u001b[1;32m     97\u001b[0m \u001b[39m    \u001b[39m\u001b[39m\"\"\"Get an artifact repository from the registry based on the scheme of artifact_uri\u001b[39;00m\n\u001b[1;32m     98\u001b[0m \n\u001b[1;32m     99\u001b[0m \u001b[39m    :param artifact_uri: The artifact store URI. This URI is used to select which artifact\u001b[39;00m\n\u001b[0;32m   (...)\u001b[0m\n\u001b[1;32m    104\u001b[0m \u001b[39m             requirements.\u001b[39;00m\n\u001b[1;32m    105\u001b[0m \u001b[39m    \"\"\"\u001b[39;00m\n\u001b[0;32m--> 106\u001b[0m     \u001b[39mreturn\u001b[39;00m _artifact_repository_registry\u001b[39m.\u001b[39;49mget_artifact_repository(artifact_uri)\n",
      "File \u001b[0;32m/opt/conda/envs/amic/lib/python3.8/site-packages/mlflow/store/artifact/artifact_repository_registry.py:72\u001b[0m, in \u001b[0;36mArtifactRepositoryRegistry.get_artifact_repository\u001b[0;34m(self, artifact_uri)\u001b[0m\n\u001b[1;32m     65\u001b[0m \u001b[39mif\u001b[39;00m repository \u001b[39mis\u001b[39;00m \u001b[39mNone\u001b[39;00m:\n\u001b[1;32m     66\u001b[0m     \u001b[39mraise\u001b[39;00m MlflowException(\n\u001b[1;32m     67\u001b[0m         \u001b[39m\"\u001b[39m\u001b[39mCould not find a registered artifact repository for: \u001b[39m\u001b[39m{}\u001b[39;00m\u001b[39m. \u001b[39m\u001b[39m\"\u001b[39m\n\u001b[1;32m     68\u001b[0m         \u001b[39m\"\u001b[39m\u001b[39mCurrently registered schemes are: \u001b[39m\u001b[39m{}\u001b[39;00m\u001b[39m\"\u001b[39m\u001b[39m.\u001b[39mformat(\n\u001b[1;32m     69\u001b[0m             artifact_uri, \u001b[39mlist\u001b[39m(\u001b[39mself\u001b[39m\u001b[39m.\u001b[39m_registry\u001b[39m.\u001b[39mkeys())\n\u001b[1;32m     70\u001b[0m         )\n\u001b[1;32m     71\u001b[0m     )\n\u001b[0;32m---> 72\u001b[0m \u001b[39mreturn\u001b[39;00m repository(artifact_uri)\n",
      "File \u001b[0;32m/opt/conda/envs/amic/lib/python3.8/site-packages/mlflow/store/artifact/gcs_artifact_repo.py:28\u001b[0m, in \u001b[0;36mGCSArtifactRepository.__init__\u001b[0;34m(self, artifact_uri, client)\u001b[0m\n\u001b[1;32m     26\u001b[0m     \u001b[39mself\u001b[39m\u001b[39m.\u001b[39mgcs \u001b[39m=\u001b[39m client\n\u001b[1;32m     27\u001b[0m \u001b[39melse\u001b[39;00m:\n\u001b[0;32m---> 28\u001b[0m     \u001b[39mfrom\u001b[39;00m \u001b[39mgoogle\u001b[39;00m\u001b[39m.\u001b[39;00m\u001b[39mcloud\u001b[39;00m \u001b[39mimport\u001b[39;00m storage \u001b[39mas\u001b[39;00m gcs_storage\n\u001b[1;32m     30\u001b[0m     \u001b[39mself\u001b[39m\u001b[39m.\u001b[39mgcs \u001b[39m=\u001b[39m gcs_storage\n\u001b[1;32m     32\u001b[0m \u001b[39mfrom\u001b[39;00m \u001b[39mgoogle\u001b[39;00m\u001b[39m.\u001b[39;00m\u001b[39mcloud\u001b[39;00m\u001b[39m.\u001b[39;00m\u001b[39mstorage\u001b[39;00m\u001b[39m.\u001b[39;00m\u001b[39mconstants\u001b[39;00m \u001b[39mimport\u001b[39;00m _DEFAULT_TIMEOUT\n",
      "\u001b[0;31mModuleNotFoundError\u001b[0m: No module named 'google.cloud'"
     ]
    }
   ],
   "source": [
    "# Log to MLflow.\n",
    "import mlflow\n",
    "\n",
    "mlflow.set_tracking_uri(\"http://localhost:8003\")\n",
    "mlflow.set_experiment(\"flamby-benchmark-fed-camelyon16\")\n",
    "\n",
    "with mlflow.start_run() as run:\n",
    "    mlflow.log_figure(fig, \"benchmark_fed_camelyon16_results.html\")"
   ]
  },
  {
   "cell_type": "code",
   "execution_count": null,
   "metadata": {},
   "outputs": [],
   "source": []
  }
 ],
 "metadata": {
  "kernelspec": {
   "display_name": "amic",
   "language": "python",
   "name": "python3"
  },
  "language_info": {
   "codemirror_mode": {
    "name": "ipython",
    "version": 3
   },
   "file_extension": ".py",
   "mimetype": "text/x-python",
   "name": "python",
   "nbconvert_exporter": "python",
   "pygments_lexer": "ipython3",
   "version": "3.8.16"
  },
  "orig_nbformat": 4,
  "vscode": {
   "interpreter": {
    "hash": "3b1ed8abeafa63bd7cc47da6710a6985454c1f3a485f5c61070979d427eb50a6"
   }
  }
 },
 "nbformat": 4,
 "nbformat_minor": 2
}
